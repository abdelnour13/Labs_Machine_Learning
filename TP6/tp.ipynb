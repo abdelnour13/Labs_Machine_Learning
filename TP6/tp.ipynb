{
 "cells": [
  {
   "cell_type": "markdown",
   "metadata": {
    "id": "bGyyYaUnl7tC"
   },
   "source": [
    "# Clustering and Dimentionality Reduction\n"
   ]
  },
  {
   "cell_type": "markdown",
   "metadata": {
    "id": "jt7GNA7nmpTc"
   },
   "source": [
    "<div class=\"alert alert-block alert-danger\">\n",
    "    \n",
    "1. Download the CIFAR-10 dataset (images) from Kaggle (https://www.kaggle.com/c/cifar-10/) and describe this dataset.\n",
    "2. Use the Principal Component Analysis,  Kernel Principal Component Analysis, Non-Negative Matrix Factorization, and Singular Value Decomposition for dimentionnality reduction.\n",
    "3. Train the K-means algorithm on the data before and after dimentionality reduction based on the different techniques.\n",
    "4. Compare the results in terms of Davies-Bouldin index,silhouette coefficient, accuracy, and F1-score. What do you observe?\n",
    "4. Use the PCA-based visualization technique (3D components) to visualize the clustering results.\n",
    "6. Display some images for each cluster (for the best model).\n",
    "\n",
    "<div/>"
   ]
  }
 ],
 "metadata": {
  "colab": {
   "provenance": []
  },
  "kernelspec": {
   "display_name": "Python 3 (ipykernel)",
   "language": "python",
   "name": "python3"
  },
  "language_info": {
   "codemirror_mode": {
    "name": "ipython",
    "version": 3
   },
   "file_extension": ".py",
   "mimetype": "text/x-python",
   "name": "python",
   "nbconvert_exporter": "python",
   "pygments_lexer": "ipython3",
   "version": "3.9.18"
  }
 },
 "nbformat": 4,
 "nbformat_minor": 4
}
